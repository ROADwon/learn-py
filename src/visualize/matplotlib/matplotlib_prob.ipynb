{
 "cells": [
  {
   "cell_type": "markdown",
   "metadata": {},
   "source": [
    "### question 1.\n",
    "> /data/csv/setosa 에 있는 Iris 데이터를 변수에 저장해 주세요"
   ]
  },
  {
   "cell_type": "markdown",
   "metadata": {},
   "source": [
    "### question 2.\n",
    "> iris데이터를 불러오셨다면, 원하는 아무 컬럼을 잡고 시각화를 진행하겠습니다. 데이터를 분리해주세요"
   ]
  },
  {
   "cell_type": "markdown",
   "metadata": {},
   "source": [
    "### question 3.\n",
    "> iris데이터의 경우 setosa, verginica, vergicorlor 3가지의 종류를 분류하는 문제입니다. 그렇다면 데이터가 섞여있겠네요\n",
    ">> column 데이터를 전처리 하고 원하는 데이터만 뽑아봅시다"
   ]
  },
  {
   "cell_type": "markdown",
   "metadata": {},
   "source": [
    "### question 4.\n",
    "> boxplot, plot, heatmap등 다양한 plotting을 진행해주세요. \n",
    ">> 최소 3개 이상의 plot 결과물을 보여주세요\n"
   ]
  },
  {
   "cell_type": "markdown",
   "metadata": {},
   "source": [
    "#### Important!\n",
    "> 시각화에 정답은 없습니다. 본인의 생각대로 문제 풀어보시고 어떤 이유로 어떤 문제를 어떻게 접근해서 풀어냈는지 설명해주세요.\n"
   ]
  },
  {
   "cell_type": "markdown",
   "metadata": {},
   "source": []
  }
 ],
 "metadata": {
  "language_info": {
   "name": "python"
  }
 },
 "nbformat": 4,
 "nbformat_minor": 2
}
