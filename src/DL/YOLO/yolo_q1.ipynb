{
 "cells": [
  {
   "cell_type": "markdown",
   "metadata": {},
   "source": [
    "### YOLO(You Only Look Once)"
   ]
  },
  {
   "cell_type": "markdown",
   "metadata": {},
   "source": [
    "#### 목표  \n",
    "---\n",
    "#### 1. object detection에 대해서 알아보자\n",
    "#### 2. 1stage Detection model Yolo에 대해 알아보자\n",
    "#### 3. YOLO를 직접 사용해서 object detection을 진행 해보자\n",
    "#### 4. 모델을 저장하고, 결과를 저장해보자"
   ]
  },
  {
   "cell_type": "markdown",
   "metadata": {},
   "source": []
  },
  {
   "cell_type": "markdown",
   "metadata": {},
   "source": []
  },
  {
   "cell_type": "markdown",
   "metadata": {},
   "source": []
  }
 ],
 "metadata": {
  "language_info": {
   "name": "python"
  }
 },
 "nbformat": 4,
 "nbformat_minor": 2
}
