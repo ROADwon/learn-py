{
 "cells": [
  {
   "cell_type": "markdown",
   "metadata": {},
   "source": [
    "### question 1\n",
    "> mnist 데이터셋을 train_test_split을 사용해서 8:1:1로 나눠주세요\n",
    ">> training, testing validation 데이터로 나누는 작업입니다."
   ]
  },
  {
   "cell_type": "code",
   "execution_count": 1,
   "metadata": {},
   "outputs": [],
   "source": [
    "## write in here"
   ]
  },
  {
   "cell_type": "markdown",
   "metadata": {},
   "source": [
    "### question 2\n",
    "> CNN (Convolution Neural Network) 계층을 구성해 주세요\n",
    ">> 단, Dense는 최소 4개 이상, Flatten 1회, Conv2D, Maxpool2D등 다양한 layer를 사용해서 구성해 주세요"
   ]
  },
  {
   "cell_type": "code",
   "execution_count": null,
   "metadata": {},
   "outputs": [],
   "source": [
    "## write in here"
   ]
  },
  {
   "cell_type": "markdown",
   "metadata": {},
   "source": [
    "### question 3\n",
    "> model을 학습시키는 내용 (history)를 hist 변수에 저장하고, 저장된 hist 를 바탕으로 학습결과를 plotting 해주세요"
   ]
  },
  {
   "cell_type": "code",
   "execution_count": null,
   "metadata": {},
   "outputs": [],
   "source": [
    "## write in here"
   ]
  },
  {
   "cell_type": "markdown",
   "metadata": {},
   "source": [
    "### question 4\n",
    "> model의 학습 점수와 예측 결과 실제 예측을 진행해 주세요 \n",
    ">> ex) image[1342]번의 예측 값은 8 이고, 실제 결과 값은 3 입니다. 틀렸습니다."
   ]
  },
  {
   "cell_type": "code",
   "execution_count": null,
   "metadata": {},
   "outputs": [],
   "source": [
    "## write in here"
   ]
  },
  {
   "cell_type": "code",
   "execution_count": null,
   "metadata": {},
   "outputs": [],
   "source": []
  }
 ],
 "metadata": {
  "kernelspec": {
   "display_name": "secenv",
   "language": "python",
   "name": "python3"
  },
  "language_info": {
   "codemirror_mode": {
    "name": "ipython",
    "version": 3
   },
   "file_extension": ".py",
   "mimetype": "text/x-python",
   "name": "python",
   "nbconvert_exporter": "python",
   "pygments_lexer": "ipython3",
   "version": "3.9.18"
  }
 },
 "nbformat": 4,
 "nbformat_minor": 2
}
