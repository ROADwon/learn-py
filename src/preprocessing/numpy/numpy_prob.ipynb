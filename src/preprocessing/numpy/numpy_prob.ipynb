{
 "cells": [
  {
   "cell_type": "markdown",
   "metadata": {},
   "source": [
    "### question 1.\n",
    "> 1~ 50까지 있는 array를 만들어 주세요"
   ]
  },
  {
   "cell_type": "markdown",
   "metadata": {},
   "source": [
    "### question 2.\n",
    "> 사이즈 10의 Null벡터 arr1, 사이즈 10의 1벡터 arr2 를 만들어주세요"
   ]
  },
  {
   "cell_type": "markdown",
   "metadata": {},
   "source": [
    "### question 3.\n",
    "> 사이즈 15의 1로만 이루어진 벡터의 끝에 99를 넣고 벡터를 반전시키세요"
   ]
  },
  {
   "cell_type": "markdown",
   "metadata": {},
   "source": [
    "### question 4.\n",
    "> 3x3x3사이즈의 random값을 가진 array를 생성 시켜 주세요"
   ]
  },
  {
   "cell_type": "markdown",
   "metadata": {},
   "source": [
    "### question 5.\n",
    "> 1~10까지 있는 배열을 만들고. 홀수인 수만 추출해 arr2에 저장 하고, arr2에 임의의 값 1개(자유)를 추가하고 arr2의 값들을 모두 더 한 값을 작성하세요"
   ]
  }
 ],
 "metadata": {
  "language_info": {
   "name": "python"
  }
 },
 "nbformat": 4,
 "nbformat_minor": 2
}
