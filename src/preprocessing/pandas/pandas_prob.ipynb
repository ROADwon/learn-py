{
 "cells": [
  {
   "cell_type": "markdown",
   "metadata": {},
   "source": [
    "### question 1.\n",
    "> /data/csv/setosa/에 있는 Iris 데이터를 불러오세요"
   ]
  },
  {
   "cell_type": "markdown",
   "metadata": {},
   "source": [
    "### question 2.\n",
    "> 불러온 데이터의 column을 파악하고 duplicate, null값이 있는지 찾아보세요"
   ]
  },
  {
   "cell_type": "markdown",
   "metadata": {},
   "source": [
    "### question 3.\n",
    "> new_df 라는 변수에 species라는 이름의 columns만 떼와서 저장하세요"
   ]
  },
  {
   "cell_type": "markdown",
   "metadata": {},
   "source": [
    "### question 4. \n",
    "> new_df에는 세가지 종류가 있습니다 virginica, virgicolor, setosa\n",
    ">> 이 세가지  종류를 각각 column으로 구성된 dataframe을 만들고, 내용으로는 각 종의 수량을 적어주세요"
   ]
  },
  {
   "cell_type": "markdown",
   "metadata": {},
   "source": [
    "### question 5.\n",
    "> 만들어진 new_df에서 virgicolor의 행을 제거하고 기존에 있던 df에 merge하세요"
   ]
  },
  {
   "cell_type": "markdown",
   "metadata": {},
   "source": []
  }
 ],
 "metadata": {
  "language_info": {
   "name": "python"
  }
 },
 "nbformat": 4,
 "nbformat_minor": 2
}
