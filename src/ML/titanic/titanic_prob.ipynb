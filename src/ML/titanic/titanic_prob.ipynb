{
 "cells": [
  {
   "cell_type": "markdown",
   "metadata": {},
   "source": [
    "### question 1.\n",
    "> train, test 데이터를 불러오고 변수에 저장해주세요"
   ]
  },
  {
   "cell_type": "markdown",
   "metadata": {},
   "source": [
    "### question 2.\n",
    "> 테스트 데이터의 전처리를 진행해주세요. null값 제거, duplicate값 제거, one-hot encoding, drop등..\n",
    ">> 문자열 데이터는 판단에따라 drop을 하거나, one-hot encoding을 통해 살리거나 하시면 됩니다"
   ]
  },
  {
   "cell_type": "markdown",
   "metadata": {},
   "source": [
    "### question 3.\n",
    "> model을 3개 선정하고 구축한뒤 이유를 설명해 주세요."
   ]
  },
  {
   "cell_type": "markdown",
   "metadata": {},
   "source": [
    "### question 4.\n",
    "> model 1개 이상을 hyper parameter tunning을 진행해주세요 그리고 튜닝을 한것과 안한것의 차이에 대해서 설명해주세요"
   ]
  },
  {
   "cell_type": "markdown",
   "metadata": {},
   "source": [
    "### question 5.\n",
    "> model을 통해 예측하고 valid 데이터와 비교하여 예측값의 정확도를 책정해 주세요"
   ]
  },
  {
   "cell_type": "markdown",
   "metadata": {},
   "source": []
  }
 ],
 "metadata": {
  "kernelspec": {
   "display_name": "secenv",
   "language": "python",
   "name": "python3"
  },
  "language_info": {
   "name": "python",
   "version": "3.9.18"
  }
 },
 "nbformat": 4,
 "nbformat_minor": 2
}
